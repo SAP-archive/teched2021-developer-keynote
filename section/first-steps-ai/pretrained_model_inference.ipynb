{
 "cells": [
  {
   "cell_type": "markdown",
   "metadata": {},
   "source": [
    "# Business Entity Recognition - Pretrained Model Inference"
   ]
  },
  {
   "cell_type": "code",
   "execution_count": null,
   "metadata": {},
   "outputs": [],
   "source": [
    "! pip install sap-business-entity-recognition-client-library"
   ]
  },
  {
   "cell_type": "code",
   "execution_count": null,
   "metadata": {},
   "outputs": [],
   "source": [
    "from sap_ber_client import ber_api_client\n",
    "from pprint import pprint\n",
    "\n",
    "import os\n",
    "import pathlib\n",
    "import json\n",
    "\n",
    "config_file = os.getcwd()+'/__service_key__/<your_service_key>'\n",
    "with open(config_file,'rb') as config:\n",
    "    config_json = json.load(config)\n",
    "    config.close()"
   ]
  },
  {
   "cell_type": "markdown",
   "metadata": {},
   "source": [
    "## Instantiate object to communicate with BER REST API"
   ]
  },
  {
   "cell_type": "code",
   "execution_count": null,
   "metadata": {},
   "outputs": [],
   "source": [
    "url = config_json['url']\n",
    "client_id = config_json['uaa']['clientid']\n",
    "client_secret = config_json['uaa']['clientsecret']\n",
    "auth_url = config_json['uaa']['url']\n",
    "\n",
    "ber_client = ber_api_client.BER_API_Client(url,client_id, client_secret, auth_url)"
   ]
  },
  {
   "cell_type": "markdown",
   "metadata": {},
   "source": [
    "## Post Inference Job with a predefinded model"
   ]
  },
  {
   "cell_type": "code",
   "execution_count": null,
   "metadata": {},
   "outputs": [],
   "source": [
    "model_name = \"sap_email_business_entity\"\n",
    "model_version = 1\n",
    "\n",
    "\n",
    "text = 'Hello, I would like to know the status of an invoice. The number is 456789. Regards, Katharina.'\n",
    "\n",
    "response = ber_client.post_inference_job(text, model_name, model_version)\n",
    "pprint(response.json())\n",
    "inference_jobid = response.json()[\"data\"][\"id\"]"
   ]
  },
  {
   "cell_type": "markdown",
   "metadata": {},
   "source": [
    "## Get inference result "
   ]
  },
  {
   "cell_type": "code",
   "execution_count": null,
   "metadata": {},
   "outputs": [],
   "source": [
    "response = ber_client.get_inference_job(inference_jobid)\n",
    "pprint(response.json())"
   ]
  }
 ],
 "metadata": {
  "kernelspec": {
   "display_name": "Python 3",
   "language": "python",
   "name": "python3"
  },
  "language_info": {
   "codemirror_mode": {
    "name": "ipython",
    "version": 3
   },
   "file_extension": ".py",
   "mimetype": "text/x-python",
   "name": "python",
   "nbconvert_exporter": "python",
   "pygments_lexer": "ipython3",
   "version": "3.8.8"
  }
 },
 "nbformat": 4,
 "nbformat_minor": 4
}
